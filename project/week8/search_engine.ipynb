{
 "cells": [
  {
   "cell_type": "code",
   "execution_count": 25,
   "id": "453dace9",
   "metadata": {
    "execution": {
     "iopub.execute_input": "2023-10-27T16:08:18.704758Z",
     "iopub.status.busy": "2023-10-27T16:08:18.704184Z",
     "iopub.status.idle": "2023-10-27T16:08:27.881066Z",
     "shell.execute_reply": "2023-10-27T16:08:27.879326Z",
     "shell.execute_reply.started": "2023-10-27T16:08:18.704703Z"
    },
    "tags": []
   },
   "outputs": [
    {
     "name": "stdin",
     "output_type": "stream",
     "text": [
      "영어 쿼리를 입력하세요. Hello!\n"
     ]
    },
    {
     "name": "stdout",
     "output_type": "stream",
     "text": [
      "There is no similar sentence.\n"
     ]
    }
   ],
   "source": [
    "import operator\n",
    "\n",
    "def preprocess(sentence):\n",
    "    # 대소문자 구분을 없애기 위해 각 문장을 소문자로 변환 후 공백 기준으로 나눈 리스트 반환\n",
    "    preprocessed_sentence = sentence.lower().strip().split()\n",
    "    return preprocessed_sentence\n",
    "\n",
    "def indexing(file_name):\n",
    "    file_token_pairs = []\n",
    "    # 파일의 모든 문장의 리스트를 lines에 저장\n",
    "    lines = open(file_name, \"r\", encoding=\"utf8\").readlines()\n",
    "    # 각 문장의 단어의 집합들을 file_token_pairs에 저장\n",
    "    for line in lines:\n",
    "        tokens = preprocess(line)\n",
    "        file_token_pairs.append(set(tokens))\n",
    "    # 원본 문장 리스트와 토큰 쌍 리스트를 반환\n",
    "    return lines, file_token_pairs\n",
    "\n",
    "def calc_similarity(preprocessed_query, preprocessed_sentences):\n",
    "    score_dict = {}\n",
    "    for i, file_token_set in enumerate(preprocessed_sentences):\n",
    "        all_tokens = preprocessed_query | file_token_set\n",
    "        same_tokens = preprocessed_query & file_token_set\n",
    "        similarity = len(same_tokens) / len(all_tokens)\n",
    "        score_dict[i] = similarity\n",
    "    return score_dict\n",
    "\n",
    "# 1. Indexing\n",
    "## https://github.com/jungyeul/korean-parallel-corpora\n",
    "file_name = \"./test/jhe-koen-dev.txt\"\n",
    "# 원본 문장과 각 문장의 단어의 집합들을 저장\n",
    "sentences, file_tokens_pairs = indexing(file_name)\n",
    "\n",
    "\n",
    "# 2. Input the query\n",
    "# 쿼리 문장의 단어들의 집합을 query_token_set에 저장\n",
    "query = input(\"영어 쿼리를 입력하세요.\")\n",
    "preprocessed_query = preprocess(query)\n",
    "query_token_set = set(preprocessed_query)\n",
    "\n",
    "# 3. Calculate similarities based on a same token set\n",
    "score_dict = calc_similarity(query_token_set, file_tokens_pairs)\n",
    "\n",
    "# 4. Sort the similarity list\n",
    "# score_dict.items()의 각 원소의 2번째 원소(value값 = 유사도 점수)를 기준으로 내림차순 정렬\n",
    "sorted_score_list = sorted(score_dict.items(), key = operator.itemgetter(1), reverse=True)\n",
    "\n",
    "# 5. Print the result\n",
    "# 가장 큰 유사도가 0이면(유사한 문장이 없으면) 문구 출력\n",
    "if sorted_score_list[0][1] == 0.0:\n",
    "    print(\"There is no similar sentence.\")\n",
    "# 유사도가 높은 순서대로 10개 문장 출력\n",
    "else:\n",
    "    print(\"rank\", \"Index\", \"score\", \"sentence\", sep = \"\\t\")\n",
    "    rank = 1\n",
    "    for i, score  in sorted_score_list:\n",
    "        print(rank, i, score, sentences[i], sep = \"\\t\")\n",
    "        if rank == 10:\n",
    "            break\n",
    "        rank = rank + 1"
   ]
  },
  {
   "cell_type": "code",
   "execution_count": 15,
   "id": "c581f6c3",
   "metadata": {
    "execution": {
     "iopub.execute_input": "2023-10-27T15:58:12.612116Z",
     "iopub.status.busy": "2023-10-27T15:58:12.611663Z",
     "iopub.status.idle": "2023-10-27T15:58:12.620994Z",
     "shell.execute_reply": "2023-10-27T15:58:12.619798Z",
     "shell.execute_reply.started": "2023-10-27T15:58:12.612083Z"
    },
    "tags": []
   },
   "outputs": [
    {
     "name": "stdout",
     "output_type": "stream",
     "text": [
      "{\"you'll\", 'farm', 'all', 'the', 'and', 'be', 'helping', 'generally', 'usual', 'picking', 'us', 'do', 'fruit', 'work.'}\n",
      "{'with', 'filled', 'garbage.', 'the', 'and', 'cities', 'clean,', 'in', 'were', 'streets', 'ages,', 'not', 'middle', 'very'}\n",
      "{'up', 'may', 'with', 'progressive', 'they', 'yet', 'moment', 'sooner', 'the', 'will', 'but', 'behind', 'or', 'later', 'be', 'apron', 'their', 'for', 'catch', 'society', 'world.', 'strings,', 'hiding'}\n",
      "{'minister.', 'you', 'the', 'said', 'answered?\"', 'what', 'cow', 'know', 'do'}\n",
      "{'poland', 'may', 'different', 'countries.', 'and', 'italy', 'like', 'seem', 'very'}\n"
     ]
    }
   ],
   "source": [
    "print(*file_tokens_pairs[:5], sep='\\n')"
   ]
  },
  {
   "cell_type": "code",
   "execution_count": 16,
   "id": "24a3d9d2-978d-4ad8-a0ae-12bf6ca43c28",
   "metadata": {
    "execution": {
     "iopub.execute_input": "2023-10-27T16:01:09.613159Z",
     "iopub.status.busy": "2023-10-27T16:01:09.612770Z",
     "iopub.status.idle": "2023-10-27T16:01:13.948158Z",
     "shell.execute_reply": "2023-10-27T16:01:13.946685Z",
     "shell.execute_reply.started": "2023-10-27T16:01:09.613121Z"
    },
    "tags": []
   },
   "outputs": [
    {
     "name": "stdin",
     "output_type": "stream",
     "text": [
      "영어 쿼리를 입력하세요. My name is Yeonwoo\n"
     ]
    },
    {
     "name": "stdout",
     "output_type": "stream",
     "text": [
      "{'yeonwoo', 'my', 'name', 'is'}\n"
     ]
    }
   ],
   "source": [
    "# 2. Input the query\n",
    "# 쿼리 문장의 단어들의 집합을 query_token_set에 저장\n",
    "query = input(\"영어 쿼리를 입력하세요.\")\n",
    "preprocessed_query = preprocess(query)\n",
    "query_token_set = set(preprocessed_query)\n",
    "print(query_token_set)"
   ]
  },
  {
   "cell_type": "code",
   "execution_count": 22,
   "id": "24bcc948-7e11-44bc-bace-d88f53adb1b9",
   "metadata": {
    "execution": {
     "iopub.execute_input": "2023-10-27T16:04:17.560132Z",
     "iopub.status.busy": "2023-10-27T16:04:17.559700Z",
     "iopub.status.idle": "2023-10-27T16:04:17.573122Z",
     "shell.execute_reply": "2023-10-27T16:04:17.571947Z",
     "shell.execute_reply.started": "2023-10-27T16:04:17.560085Z"
    },
    "tags": []
   },
   "outputs": [
    {
     "name": "stdout",
     "output_type": "stream",
     "text": [
      "(0, 0.0)\n",
      "(1, 0.0)\n",
      "(2, 0.0)\n",
      "(3, 0.0)\n",
      "(4, 0.0)\n",
      "(5, 0.0)\n",
      "(6, 0.0)\n",
      "(7, 0.0)\n",
      "(8, 0.0)\n",
      "(9, 0.0)\n",
      "(10, 0.0)\n",
      "(11, 0.0)\n",
      "(12, 0.0)\n",
      "(13, 0.0)\n",
      "(14, 0.0)\n",
      "(15, 0.0)\n",
      "(16, 0.0)\n",
      "(17, 0.1)\n",
      "(18, 0.0)\n",
      "(19, 0.0)\n",
      "(20, 0.08333333333333333)\n",
      "(21, 0.043478260869565216)\n",
      "(22, 0.0)\n",
      "(23, 0.0625)\n",
      "(24, 0.058823529411764705)\n"
     ]
    }
   ],
   "source": [
    "print(*list(score_dict.items())[:25], sep='\\n')"
   ]
  },
  {
   "cell_type": "code",
   "execution_count": 23,
   "id": "a4662b06-1247-4423-9c49-f42ed741e81d",
   "metadata": {
    "execution": {
     "iopub.execute_input": "2023-10-27T16:05:29.563297Z",
     "iopub.status.busy": "2023-10-27T16:05:29.563053Z",
     "iopub.status.idle": "2023-10-27T16:05:29.572479Z",
     "shell.execute_reply": "2023-10-27T16:05:29.571293Z",
     "shell.execute_reply.started": "2023-10-27T16:05:29.563273Z"
    },
    "tags": []
   },
   "outputs": [
    {
     "name": "stdout",
     "output_type": "stream",
     "text": [
      "(679, 0.6)\n",
      "(526, 0.3333333333333333)\n",
      "(538, 0.3333333333333333)\n",
      "(453, 0.2857142857142857)\n",
      "(241, 0.25)\n",
      "(336, 0.25)\n",
      "(212, 0.2222222222222222)\n",
      "(505, 0.2)\n",
      "(190, 0.16666666666666666)\n",
      "(314, 0.16666666666666666)\n",
      "(610, 0.16666666666666666)\n",
      "(710, 0.16666666666666666)\n",
      "(45, 0.125)\n",
      "(107, 0.125)\n",
      "(293, 0.125)\n"
     ]
    }
   ],
   "source": [
    "print(*sorted_score_list[:15], sep='\\n')"
   ]
  }
 ],
 "metadata": {
  "kernelspec": {
   "display_name": "Python 3 (ipykernel)",
   "language": "python",
   "name": "python3"
  },
  "language_info": {
   "codemirror_mode": {
    "name": "ipython",
    "version": 3
   },
   "file_extension": ".py",
   "mimetype": "text/x-python",
   "name": "python",
   "nbconvert_exporter": "python",
   "pygments_lexer": "ipython3",
   "version": "3.8.10"
  }
 },
 "nbformat": 4,
 "nbformat_minor": 5
}

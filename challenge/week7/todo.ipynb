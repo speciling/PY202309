{
 "cells": [
  {
   "cell_type": "code",
   "execution_count": 4,
   "id": "58615785",
   "metadata": {},
   "outputs": [
    {
     "name": "stdout",
     "output_type": "stream",
     "text": [
      "\n",
      "할일 관리 프로그램\n",
      "1. 할일 추가\n",
      "2. 할일 목록 표시\n",
      "3. 종료\n",
      "선택: 3\n",
      "프로그램을 종료합니다.\n"
     ]
    }
   ],
   "source": [
    "def add_task(task_list, task):\n",
    "    # 할 일 목록 리스트에 할 일 추가\n",
    "    task_list.append(task)\n",
    "\n",
    "def display_tasks(task_list):\n",
    "    # 할 일 목록 리스트를 순회하며 인덱스를 i에, 할 일을 task에 저장\n",
    "    # index+1. task 형태로 출력\n",
    "    for i, task in enumerate(task_list):\n",
    "        print(f'{i+1}. {task}')\n",
    "\n",
    "def save_tasks_to_file(task_list, filename):\n",
    "    # w모드로 파일 열기\n",
    "    write_fp = open(filename, \"w\", encoding=\"utf-8\")\n",
    "    # 할 일 목록 리스트를 줄바꿈 문자로 연결한 문자열로 변경한 후\n",
    "    # 파일에 작성\n",
    "    # 매번 처음부터 다시 작성해야 해서 비효율적.\n",
    "    # 해결방안: load시에 task_list의 길이를 저장해둔 뒤 a모드로 새로 추가한 내용만 작성하도록 변경\n",
    "    write_fp.write('\\n'.join(task_list))\n",
    "    # 파일 닫기\n",
    "    write_fp.close()\n",
    "\n",
    "def load_tasks_from_file(filename):\n",
    "    # 할일 목록 리스트 초기화\n",
    "    task_list = []\n",
    "    # r모드로 파일 열기\n",
    "    # 파일이 없으면 오류 발생\n",
    "    # 해결방안: 예외처리 구문을 통해 파일이 없을경우 w모드로 파일 생성 후 읽기\n",
    "    read_fp = open(filename, \"r\", encoding=\"utf-8\")\n",
    "    # 파일의 모든 내용을 읽어와 하나의 문자열 tasks에 저장\n",
    "    tasks = read_fp.read()\n",
    "    #파일 닫기\n",
    "    read_fp.close()\n",
    "    # 읽어온 파일이 비어있지 않다면 줄바꿈 문자 기준으로 나눈 리스트 저장\n",
    "    if tasks:\n",
    "        task_list = tasks.split('\\n')\n",
    "    return task_list\n",
    "\n",
    "file_name = \"tasks.txt\"\n",
    "task_list = load_tasks_from_file(file_name)\n",
    "\n",
    "while True:\n",
    "    print(\"\\n할일 관리 프로그램\")\n",
    "    print(\"1. 할일 추가\")\n",
    "    print(\"2. 할일 목록 표시\")\n",
    "    print(\"3. 종료\")\n",
    "    \n",
    "    choice = input(\"선택: \")\n",
    "\n",
    "    if choice == '1':\n",
    "        task = input(\"할일을 입력하세요: \")\n",
    "        add_task(task_list, task)\n",
    "        print(\"할일이 추가되었습니다.\")\n",
    "    elif choice == '2':\n",
    "        display_tasks(task_list)\n",
    "    elif choice == '3':\n",
    "        save_tasks_to_file(task_list, file_name)\n",
    "        print(\"프로그램을 종료합니다.\")\n",
    "        break\n",
    "    else:\n",
    "        print(\"잘못된 선택입니다. 다시 시도하세요.\")"
   ]
  }
 ],
 "metadata": {
  "kernelspec": {
   "display_name": "Python 3 (ipykernel)",
   "language": "python",
   "name": "python3"
  },
  "language_info": {
   "codemirror_mode": {
    "name": "ipython",
    "version": 3
   },
   "file_extension": ".py",
   "mimetype": "text/x-python",
   "name": "python",
   "nbconvert_exporter": "python",
   "pygments_lexer": "ipython3",
   "version": "3.10.9"
  }
 },
 "nbformat": 4,
 "nbformat_minor": 5
}

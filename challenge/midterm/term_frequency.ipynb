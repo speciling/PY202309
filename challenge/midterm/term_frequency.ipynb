{
 "cells": [
  {
   "cell_type": "code",
   "execution_count": 7,
   "id": "d38cd16e",
   "metadata": {},
   "outputs": [
    {
     "name": "stdout",
     "output_type": "stream",
     "text": [
      "-----TF dictionary-----\n",
      "{'middle': 1, 'single': 1, 'glitters': 1, 'she': 1, 'opportunity': 1, 'quick': 1, 'dog': 1, 'is': 1, 'step': 1, 'books': 1, 'gold': 1, 'not': 1, 'with': 1, 'to': 1, 'begins': 1, 'over': 1, 'in': 1, 'miles': 1, 'all': 1, 'brown': 1, 'lazy': 1, 'that': 1, 'jumps': 1, 'a': 3, 'difficulty': 1, 'lies': 1, 'of': 2, 'thousand': 1, 'likes': 1, 'the': 3, 'journey': 1, 'read': 1, 'fox': 1}\n",
      "-----Top-3 TF terms-----\n",
      "1 a 3\n",
      "2 the 3\n",
      "3 of 2\n"
     ]
    }
   ],
   "source": [
    "import operator\n",
    "\n",
    "sentences = [\n",
    "    \"The quick brown fox jumps over the lazy dog.\",\n",
    "    \"A journey of a thousand miles begins with a single step.\",\n",
    "    \"All that glitters is not gold.\",    \n",
    "    \"In the middle of difficulty lies opportunity.\",\n",
    "    \"She likes to read books.\"\n",
    "]\n",
    "\n",
    "\n",
    "# TODO 1: 토큰 집합 만들기\n",
    "\n",
    "# 리스트의 문장들을 모두 이어붙인 후, 대소문자를 구분하지 않기 위해 소문자로 만들어주고, \n",
    "# .는 전부 없애준 후 공백 기준으로 나눠서 토큰들의 리스트 생성\n",
    "tokens = ' '.join(sentences).lower().replace('.', '').split()\n",
    "\n",
    "# 토큰들의 리스트를 집합으로 변환\n",
    "total_terms = set(tokens)\n",
    "\n",
    "\n",
    "# TODO 2: 토큰 별 단어 빈도를 딕셔너리에 저장\n",
    "\n",
    "# 토큰 집합의 각 원소인 토큰을 key값으로 갖고, 0을 value로 갖는 딕셔너리 초기화\n",
    "term_frequency_dict = {term: 0 for term in total_terms}\n",
    "# 토큰 리스트의 토큰들을 하나씩 꺼내와서 딕셔너리의 값을 1씩 증가시킴\n",
    "for token in tokens:\n",
    "    term_frequency_dict[token] += 1\n",
    "\n",
    "\n",
    "# 토큰 빈도 출력\n",
    "print(\"-----TF dictionary-----\")\n",
    "print(term_frequency_dict)\n",
    "\n",
    "\n",
    "print(\"-----Top-3 TF terms-----\")\n",
    "# TODO 3: Top-3 토큰 빈도를 갖는 단어의 순위, 단어, 빈도 출력 코드 작성\n",
    "\n",
    "# 토큰 빈도 딕셔너리의 items 객체를 -value, 즉 갯수 기준 내림차순 정렬하고 세번째 원소까지 슬라이싱하여 저장\n",
    "top3 = sorted(term_frequency_dict.items(), key=operator.itemgetter(1), reverse=True)[:3]\n",
    "# 형식에 맞춰 출력\n",
    "for i in range(3):\n",
    "    print(i+1, *top3[i])"
   ]
  }
 ],
 "metadata": {
  "kernelspec": {
   "display_name": "Python 3 (ipykernel)",
   "language": "python",
   "name": "python3"
  },
  "language_info": {
   "codemirror_mode": {
    "name": "ipython",
    "version": 3
   },
   "file_extension": ".py",
   "mimetype": "text/x-python",
   "name": "python",
   "nbconvert_exporter": "python",
   "pygments_lexer": "ipython3",
   "version": "3.11.5"
  }
 },
 "nbformat": 4,
 "nbformat_minor": 5
}

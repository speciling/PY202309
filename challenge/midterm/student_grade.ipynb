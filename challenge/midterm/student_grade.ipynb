{
 "cells": [
  {
   "cell_type": "code",
   "execution_count": 3,
   "id": "ff4515a0",
   "metadata": {},
   "outputs": [
    {
     "name": "stdout",
     "output_type": "stream",
     "text": [
      "-----학생들의 평균 점수------\n",
      "실바의 평균 점수는 73.66666666666667 입니다.\n",
      "산토스의 평균 점수는 86.93333333333334 입니다.\n",
      "맥그리거의 평균 점수는 85.7 입니다.\n",
      "알도의 평균 점수는 85.43333333333332 입니다.\n",
      "로우지의 평균 점수는 83.10000000000001 입니다.\n",
      "누네스의 평균 점수는 85.93333333333334 입니다.\n"
     ]
    }
   ],
   "source": [
    "def loadData(filename):\n",
    "    fp = open(filename, \"r\", encoding=\"utf8\")\n",
    "    lines = fp.readlines()\n",
    "    fp.close()\n",
    "    student_dict = {}\n",
    "    # lines의 두 번째 줄부터 각 줄을 line으로 가져옴\n",
    "    for line in lines[1:]:\n",
    "        # 각 줄을 , 기준으로 나눠서 맨 앞의 이름을 name에, 나머지 점수들을 scores 리스트에 저장\n",
    "        name, *scores = line.strip().split(',')\n",
    "        # name을 key로, 점수의 리스트의 원소들을 float형으로 변환한 리스트를 value로 하여 딕셔너리에 추가\n",
    "        student_dict[name] = list(map(float, scores))\n",
    "    return student_dict\n",
    "\n",
    "def getAverage(scores):\n",
    "    return sum(scores)/len(scores)\n",
    "\n",
    "# TODO 1.1: 학생 정보를 딕셔너리에 저장\n",
    "student_dict = loadData(\"student.csv\")\n",
    "    \n",
    "    \n",
    "# TODO 1.2: 학생 별 성적의 평균 점수를 출력\n",
    "# 평균 점수 정보를 저장할 리스트 선언\n",
    "average_score_data = [\"-----학생들의 평균 점수------\"]\n",
    "# student_dict에서 각 학생의 이름과 점수 리스트를 받아와 정해진 형식대로 점수 데이터 추가\n",
    "for name, scores in student_dict.items():\n",
    "    average_score_data.append(f'{name}의 평균 점수는 {getAverage(scores)} 입니다.')\n",
    "# 각 줄을 출력\n",
    "print(*average_score_data, sep=\"\\n\")\n",
    "\n",
    "    \n",
    "# TODO 1.3:  평균 점수를 코드 실행결과와 동일하게 파일로 출력 (average.txt)\n",
    "write_fp = open(\"average.txt\", \"w\", encoding=\"utf8\")\n",
    "# 점수 정보 리스트를 파일에 작성\n",
    "write_fp.writelines(average_score_data)\n",
    "write_fp.close()"
   ]
  },
  {
   "cell_type": "code",
   "execution_count": null,
   "id": "b0821efe",
   "metadata": {},
   "outputs": [],
   "source": []
  }
 ],
 "metadata": {
  "kernelspec": {
   "display_name": "Python 3 (ipykernel)",
   "language": "python",
   "name": "python3"
  },
  "language_info": {
   "codemirror_mode": {
    "name": "ipython",
    "version": 3
   },
   "file_extension": ".py",
   "mimetype": "text/x-python",
   "name": "python",
   "nbconvert_exporter": "python",
   "pygments_lexer": "ipython3",
   "version": "3.11.5"
  }
 },
 "nbformat": 4,
 "nbformat_minor": 5
}

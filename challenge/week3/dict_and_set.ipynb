{
 "cells": [
  {
   "cell_type": "code",
   "execution_count": 1,
   "id": "cb9e1d81",
   "metadata": {
    "scrolled": true
   },
   "outputs": [
    {
     "name": "stdout",
     "output_type": "stream",
     "text": [
      "Enter English number ranging from 1 to 5: three\n",
      "three is 삼\n"
     ]
    }
   ],
   "source": [
    "# Dictionary\n",
    "# Program 1: English to Korean number converter\n",
    "\n",
    "# 1부터 5까지의 수의 영어 표기를 key로, 한글 표기를 value로 갖는 dictionary 생성\n",
    "en_to_kor = {\"one\": \"일\", \"two\": \"이\", \"three\": \"삼\", \"four\": \"사\", \"five\": \"오\"}\n",
    "\n",
    "# 사용자로부터 1부터 5까지의 수 중 한개의 영어 표기를 입력받아 en_num에 저장\n",
    "en_num = input(\"Enter English number ranging from 1 to 5: \")\n",
    "\n",
    "# en_to_kor 딕셔너리의 en_num이라는 key값에 대응하는 value값 == 입력받은 영어 숫자의 한글표기 이므로\n",
    "# en_to_kor[en_num] 의 반환값이 출력해야하는 한글 표기임\n",
    "# f-string을 사용하여 정답 출력\n",
    "print(f\"{en_num} is {en_to_kor[en_num]}\")"
   ]
  },
  {
   "cell_type": "code",
   "execution_count": 7,
   "id": "71a8f05f",
   "metadata": {},
   "outputs": [
    {
     "name": "stdout",
     "output_type": "stream",
     "text": [
      "Name: Moving / average: 4.0\n",
      "Name: Mask Girl / average: 3.6666666666666665\n",
      "Name: Oppenheimer / average: 3.3333333333333335\n"
     ]
    }
   ],
   "source": [
    "# Dictionary\n",
    "# Program 2: Movie Scorer\n",
    "\n",
    "# ratings dictionary 생성\n",
    "ratings = {\"Moving\": {\"Misoo\":4, \"Kwon\":3, \"Soo\": 5},\n",
    "\"Mask Girl\": {\"Misoo\":3, \"Kwon\":4, \"Soo\": 4},\n",
    "\"Oppenheimer\": {\"Misoo\":3, \"Kwon\":3, \"Soo\": 4}}\n",
    "\n",
    "# ratings.items를 순회하며, 각 원소(key, value)를 movie_name, scores에 언패킹하여 사용함\n",
    "for movie_name, scores in ratings.items():\n",
    "    # scores는 중첩된 dictionary로 영화에 대한 세 사람의 점수에 대한 딕셔너리\n",
    "    # scores의 value값들이 점수이므로 sum(scores.value())로 점수의 합을 구하고\n",
    "    # scores의 길이(점수를 준 사람의 수) 로 나누어 평균을 구해 average 변수에 저장\n",
    "    average = sum(scores.values())/len(scores)\n",
    "    # f-string을 사용하여 형식에 맞게 출력\n",
    "    print(f\"Name: {movie_name} / average: {average}\")"
   ]
  },
  {
   "cell_type": "code",
   "execution_count": 16,
   "id": "1a46f3c1",
   "metadata": {},
   "outputs": [
    {
     "name": "stdout",
     "output_type": "stream",
     "text": [
      "user2's 1st friend name: 철수\n",
      "user2's 2nd friend name: 영수\n",
      "user2's 3rd friend name: 영희\n",
      "user2's 1st friend name: 철희\n",
      "user2's 2nd friend name: 영수\n",
      "user2's 3rd friend name: 동수\n",
      "All friends: 철수 동수 철희 영희 영수\n"
     ]
    }
   ],
   "source": [
    "# Set\n",
    "# Program 1. Friends\n",
    "\n",
    "# user1의 친구들을 저장할 집합 생성\n",
    "user1_friends = set()\n",
    "# 세 명의 친구들을 입력받아 집합에 add\n",
    "user1_friends.add(input(f\"{user}'s 1st friend name: \"))\n",
    "user1_friends.add(input(f\"{user}'s 2nd friend name: \"))    \n",
    "user1_friends.add(input(f\"{user}'s 3rd friend name: \"))\n",
    "\n",
    "# user1과 같은 방식으로 user2의 친구들을 집합에 입력받음\n",
    "user2_friends = set()\n",
    "user2_friends.add(input(f\"{user}'s 1st friend name: \"))\n",
    "user2_friends.add(input(f\"{user}'s 2nd friend name: \"))    \n",
    "user2_friends.add(input(f\"{user}'s 3rd friend name: \")) \n",
    "\n",
    "# 두 집합의 합집합을 |연산자를 이용해 구한 후 *연산자로 출력\n",
    "print(\"All friends:\", *(user1_friends | user2_friends))"
   ]
  }
 ],
 "metadata": {
  "kernelspec": {
   "display_name": "Python 3 (ipykernel)",
   "language": "python",
   "name": "python3"
  },
  "language_info": {
   "codemirror_mode": {
    "name": "ipython",
    "version": 3
   },
   "file_extension": ".py",
   "mimetype": "text/x-python",
   "name": "python",
   "nbconvert_exporter": "python",
   "pygments_lexer": "ipython3",
   "version": "3.10.9"
  }
 },
 "nbformat": 4,
 "nbformat_minor": 5
}

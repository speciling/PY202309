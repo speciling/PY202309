{
 "cells": [
  {
   "cell_type": "code",
   "execution_count": 1,
   "id": "3ed85d9f",
   "metadata": {},
   "outputs": [
    {
     "name": "stdout",
     "output_type": "stream",
     "text": [
      "Enter 1st number: 50\n",
      "Enter 2nd number: 40\n",
      "Enter 3rd number: 90\n",
      "Enter 4th number: 10\n",
      "Enter 5th number: 30\n",
      "max:  90\n",
      "min:  10\n",
      "average:  44.0\n"
     ]
    }
   ],
   "source": [
    "nums = []  # 숫자 리스트 초기화, 숫자 5개 입력받기\n",
    "nums.append(int(input(\"Enter 1st number: \")))\n",
    "nums.append(int(input(\"Enter 2nd number: \")))\n",
    "nums.append(int(input(\"Enter 3rd number: \")))\n",
    "nums.append(int(input(\"Enter 4th number: \")))\n",
    "nums.append(int(input(\"Enter 5th number: \")))\n",
    "\n",
    "print(\"max: \", max(nums))  # max 함수 이용 최댓값 출력\n",
    "print(\"min: \", min(nums))  # min 함수 이용 최솟값 출력\n",
    "print(\"average: \", sum(nums)/len(nums))  # sum함수로 합, len함수로 갯수 구해서 평균 계산"
   ]
  },
  {
   "cell_type": "code",
   "execution_count": 2,
   "id": "9e8ffdaf",
   "metadata": {},
   "outputs": [
    {
     "name": "stdout",
     "output_type": "stream",
     "text": [
      "What is your favorite singer?Oh My Girl\n",
      "['BTS', 'Black Pink', 'Oh My Girl']\n"
     ]
    }
   ],
   "source": [
    "singers = [\"BTS\", \"Black Pink\"]  # 가수 리스트 초기화\n",
    "singers.append(input(\"What is your favorite singer?\"))  # 입력받은 가수 추가\n",
    "print(sorted(singers))  # 정렬된 리스트 출력"
   ]
  },
  {
   "cell_type": "code",
   "execution_count": 6,
   "id": "e38b587a",
   "metadata": {
    "scrolled": true
   },
   "outputs": [
    {
     "name": "stdout",
     "output_type": "stream",
     "text": [
      "('tennis', 'football', 'baseball', 'basketball', 'golf')\n",
      "\n",
      "Please enter one of the sport name from above: golf\n",
      "golf has index number: 4\n",
      "\n",
      "Enter a number between 0 and 4: 2\n",
      "baseball\n"
     ]
    }
   ],
   "source": [
    "sports = (\"tennis\", \"football\", \"baseball\", \"basketball\", \"golf\")  # 튜플 초기화\n",
    "print(sports)  # 튜플 출력\n",
    "print()\n",
    "\n",
    "entered_name = input(\"Please enter one of the sport name from above: \")  # 스포츠 이름 입력받기\n",
    "print(entered_name, \"has index number:\", sports.index(entered_name))  # index함수 이용하여 index값 찾아서 출력\n",
    "print()\n",
    "\n",
    "entered_num = int(input(\"Enter a number between 0 and 4: \"))  # 0~4 사이의 숫자 입력받기\n",
    "print(sports[entered_num])  # 인덱싱 사용하여 해당 인덱스의 스포츠 이름 출력"
   ]
  },
  {
   "cell_type": "code",
   "execution_count": 9,
   "id": "d6b4f9d2",
   "metadata": {
    "scrolled": true
   },
   "outputs": [
    {
     "name": "stdout",
     "output_type": "stream",
     "text": [
      "Menu: Americano, Caffe Latte, Caffe Mocha, Iced Tea\n",
      "Enter the 1st item sold yesterday: Caffe Mocha\n",
      "Enter the 2nd item sold yesterday: Iced Tea\n",
      "Enter the 3rd item sold yesterday: Americano\n",
      "Enter the 4th item sold yesterday: 1\n",
      "Enter the 5th item sold yesterday: 1\n",
      "Enter the 1st item sold today: Americano\n",
      "Enter the 2nd item sold today: Americano\n",
      "Enter the 3rd item sold today: Americano\n",
      "Enter the 4th item sold today: 3\n",
      "Enter the 5th item sold today: 4\n",
      "Yesterday sales: Caffe Mocha Iced Tea Americano 1 1\n",
      "Today sales: Americano Americano Americano 3 4\n",
      "Total sales: Caffe Mocha Iced Tea Americano 1 1 Americano Americano Americano 3 4\n",
      "Americano sales: 4\n"
     ]
    }
   ],
   "source": [
    "print(\"Menu: Americano, Caffe Latte, Caffe Mocha, Iced Tea\")\n",
    "\n",
    "# 5개의 메뉴 각각 입력받은 후 yesterday_sales_tuple에 저장\n",
    "yesterday_sales1 = input(\"Enter the 1st item sold yesterday: \")\n",
    "yesterday_sales2 = input(\"Enter the 2nd item sold yesterday: \")\n",
    "yesterday_sales3 = input(\"Enter the 3rd item sold yesterday: \")\n",
    "yesterday_sales4 = input(\"Enter the 4th item sold yesterday: \")\n",
    "yesterday_sales5 = input(\"Enter the 5th item sold yesterday: \")\n",
    "yesterday_sales_tuple = (yesterday_sales1, yesterday_sales2, yesterday_sales3, yesterday_sales4, yesterday_sales5)\n",
    "\n",
    "# 5개의 메뉴 각각 입력받은 후 today_sales_tuple에 저장\n",
    "today_sales1 = input(\"Enter the 1st item sold today: \")\n",
    "today_sales2 = input(\"Enter the 2nd item sold today: \")\n",
    "today_sales3 = input(\"Enter the 3rd item sold today: \")\n",
    "today_sales4 = input(\"Enter the 4th item sold today: \")\n",
    "today_sales5 = input(\"Enter the 5th item sold today: \")\n",
    "today_sales_tuple = (today_sales1, today_sales2, today_sales3, today_sales4, today_sales5)\n",
    "\n",
    "print(\"Yesterday sales:\", *yesterday_sales_tuple)  # * 이용해서 언박싱하여 출력\n",
    "print(\"Today sales:\", *today_sales_tuple)  # * 이용해서 언박싱하여 출력\n",
    "print(\"Total sales:\", *(yesterday_sales_tuple+today_sales_tuple))  # +연산자로 이어붙인 튜플을 * 이용해서 언박싱하여 출력\n",
    "print(\"Americano sales:\", (yesterday_sales_tuple+today_sales_tuple).count(\"Americano\"))  # +연산자로 이어붙인 후 count 함수 사용하여 아메리카노 갯수 세어 출력"
   ]
  }
 ],
 "metadata": {
  "kernelspec": {
   "display_name": "Python 3 (ipykernel)",
   "language": "python",
   "name": "python3"
  },
  "language_info": {
   "codemirror_mode": {
    "name": "ipython",
    "version": 3
   },
   "file_extension": ".py",
   "mimetype": "text/x-python",
   "name": "python",
   "nbconvert_exporter": "python",
   "pygments_lexer": "ipython3",
   "version": "3.11.5"
  }
 },
 "nbformat": 4,
 "nbformat_minor": 5
}

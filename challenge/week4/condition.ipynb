{
 "cells": [
  {
   "cell_type": "code",
   "execution_count": 5,
   "id": "9c9bbafc",
   "metadata": {},
   "outputs": [
    {
     "name": "stdout",
     "output_type": "stream",
     "text": [
      "Is it raining? (Y / N)d\n",
      "Is it windy? (Y / N)y\n",
      "Incorrect Input\n"
     ]
    }
   ],
   "source": [
    "# lower함수를 사용하여 y, n을 대소문자 구분없이 입력받을 수 있도록 함\n",
    "isRaining = input(\"Is it raining? (Y / N)\").lower()\n",
    "isWindy = input(\"Is it windy? (Y / N)\").lower()\n",
    "\n",
    "# 비도 오고 바람도 부는 경우\n",
    "if (isRaining == 'y' and isWindy == 'y'):\n",
    "    print(\"It is too windy for an umbrella.\")\n",
    "# 비는 오고 바람은 불지 않는 경우\n",
    "elif (isRaining == 'y' and isWindy == 'n'):\n",
    "    print(\"Take an umbrella\")\n",
    "# 비는 오지않고 바람은 부는경우\n",
    "elif (isRaining == 'n' and isWindy == 'y'):\n",
    "    print(\"Please take a coat\")\n",
    "# 비도 오지않고 바람도 불지 않는 경우\n",
    "elif (isRaining == 'n' and isWindy == 'n'):\n",
    "    print(\"Have a nice day\")\n",
    "# y나 n이 아닌 잘못된 입력이 들어온 경우\n",
    "else:\n",
    "    print(\"Incorrect Input\")"
   ]
  }
 ],
 "metadata": {
  "kernelspec": {
   "display_name": "Python 3 (ipykernel)",
   "language": "python",
   "name": "python3"
  },
  "language_info": {
   "codemirror_mode": {
    "name": "ipython",
    "version": 3
   },
   "file_extension": ".py",
   "mimetype": "text/x-python",
   "name": "python",
   "nbconvert_exporter": "python",
   "pygments_lexer": "ipython3",
   "version": "3.11.5"
  }
 },
 "nbformat": 4,
 "nbformat_minor": 5
}

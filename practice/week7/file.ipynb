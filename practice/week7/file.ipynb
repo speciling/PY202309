{
 "cells": [
  {
   "cell_type": "code",
   "execution_count": 2,
   "id": "3f43cd4e",
   "metadata": {},
   "outputs": [
    {
     "name": "stdout",
     "output_type": "stream",
     "text": [
      "1. 암호화, 2. 복호화 중 선택하세요: 2\n",
      "입력 파일 이름을 입력하세요: data_enc.txt\n",
      "출력 파일 이름을 입력하세요: data_dec.txt\n",
      "data_enc.txt --> data_dec.txt Finish to transform\n"
     ]
    }
   ],
   "source": [
    "choice = int(input(\"1. 암호화, 2. 복호화 중 선택하세요: \"))\n",
    "in_filename = input(\"입력 파일 이름을 입력하세요: \")\n",
    "out_filename = input(\"출력 파일 이름을 입력하세요: \")\n",
    "\n",
    "# 암호화, 복호화를 위한 키를 저장하기 위한 변수\n",
    "token_jump = 0\n",
    "\n",
    "# 암호화 모드일경우 각 문자에 모두 100을 더해서 암호화 하도록 함\n",
    "if choice == 1:\n",
    "    token_jump = 100\n",
    "# 복호화 모드일경우 각 문자에 모두 100을 빼서 원래 문자를 구하도록 함\n",
    "elif choice == 2:\n",
    "    token_jump = -100\n",
    "    \n",
    "# 입력, 출력 파일 각각 r, w모드로 열기\n",
    "in_fp = open(in_filename, \"r\", encoding=\"utf-8\")\n",
    "out_fp = open(out_filename, \"w\", encoding=\"utf-8\")\n",
    "\n",
    "# 입력파일 읽어서 리스트에 저장\n",
    "in_lines = in_fp.readlines()\n",
    "\n",
    "# 입력파일 리스트를 순회\n",
    "for in_line in in_lines:\n",
    "    # 출력파일에 작성할 문자를 저장해둘 문자열 초기화\n",
    "    out_str = \"\"\n",
    "    # 입력파일 한 줄의 각 문자를 순회\n",
    "    for ch in in_line:\n",
    "        # 유니코드로 변환\n",
    "        ch_num = ord(ch)\n",
    "        # 키값 더해줌\n",
    "        ch_num += token_jump\n",
    "        # 다시 문자로 변환\n",
    "        ch2 = chr(ch_num)\n",
    "        # 출력 문자열에 붙임\n",
    "        out_str += ch2\n",
    "        \n",
    "    # 출력파일에 처리한 한 줄 출력\n",
    "    out_fp.write(out_str)\n",
    "    \n",
    "# 파일 닫기\n",
    "out_fp.close()\n",
    "in_fp.close()\n",
    "print(\"%s --> %s Finish to transform\"%(in_filename, out_filename))"
   ]
  }
 ],
 "metadata": {
  "kernelspec": {
   "display_name": "Python 3 (ipykernel)",
   "language": "python",
   "name": "python3"
  },
  "language_info": {
   "codemirror_mode": {
    "name": "ipython",
    "version": 3
   },
   "file_extension": ".py",
   "mimetype": "text/x-python",
   "name": "python",
   "nbconvert_exporter": "python",
   "pygments_lexer": "ipython3",
   "version": "3.10.9"
  }
 },
 "nbformat": 4,
 "nbformat_minor": 5
}

{
 "cells": [
  {
   "cell_type": "code",
   "execution_count": 3,
   "id": "b98f15ee",
   "metadata": {},
   "outputs": [
    {
     "name": "stdout",
     "output_type": "stream",
     "text": [
      "** Start Lotto **\n",
      "Number:  15 16 17 36 43 45 "
     ]
    }
   ],
   "source": [
    "import random\n",
    "\n",
    "# 1~45 중 랜덤한 숫자 1개 반환\n",
    "def get_number():\n",
    "    return random.randrange(1, 46)\n",
    "\n",
    "lotto = []\n",
    "num = 0\n",
    "print(\"** Start Lotto **\")\n",
    "\n",
    "while True:\n",
    "    # 랜덤 숫자를 num에 저장\n",
    "    num = get_number()\n",
    "    \n",
    "    # lotto 리스트 안에 num 숫자의 갯수가 1이면(해당 숫자가 리스트 안에 없으면)\n",
    "    # lotto 리스트에 num 추가\n",
    "    if lotto.count(num) == 0:\n",
    "        lotto.append(num)\n",
    "    \n",
    "    # lotto 리스트의 원소의 갯수가 6 이상이면 반복문 종료\n",
    "    if len(lotto) >= 6:\n",
    "        break\n",
    "\n",
    "print(\"Number: \", end=' ')\n",
    "# lotto 리스트 정렬\n",
    "lotto.sort()\n",
    "# lotto 리스트의 숫자들을 스페이스로 나누어 차례대로 출력\n",
    "for number in lotto:\n",
    "    print(number, end=' ')"
   ]
  }
 ],
 "metadata": {
  "kernelspec": {
   "display_name": "Python 3 (ipykernel)",
   "language": "python",
   "name": "python3"
  },
  "language_info": {
   "codemirror_mode": {
    "name": "ipython",
    "version": 3
   },
   "file_extension": ".py",
   "mimetype": "text/x-python",
   "name": "python",
   "nbconvert_exporter": "python",
   "pygments_lexer": "ipython3",
   "version": "3.11.5"
  }
 },
 "nbformat": 4,
 "nbformat_minor": 5
}

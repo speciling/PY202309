{
 "cells": [
  {
   "cell_type": "code",
   "execution_count": 1,
   "id": "7a59e9f9",
   "metadata": {},
   "outputs": [
    {
     "name": "stdout",
     "output_type": "stream",
     "text": [
      "Enter your first name: Yeonwoo\n",
      "The length of your name is 7\n"
     ]
    }
   ],
   "source": [
    "name = input(\"Enter your first name: \")\n",
    "print(\"The length of your name is\", len(name))  # use len function to get length of name"
   ]
  },
  {
   "cell_type": "code",
   "execution_count": 2,
   "id": "49d7c950",
   "metadata": {},
   "outputs": [
    {
     "name": "stdout",
     "output_type": "stream",
     "text": [
      "Enter your first name: Yeonwoo\n",
      "Enter your last name: JI\n",
      "Your name with a blank is Yeonwoo JI\n",
      "The total length is  10\n"
     ]
    }
   ],
   "source": [
    "name = input(\"Enter your first name: \")  # get first name\n",
    "name += ' ' + input(\"Enter your last name: \")  # concatenate space and last name\n",
    "print(\"Your name with a blank is \" + name)\n",
    "print(\"The total length is \", len(name))"
   ]
  },
  {
   "cell_type": "code",
   "execution_count": 3,
   "id": "12020451",
   "metadata": {},
   "outputs": [
    {
     "name": "stdout",
     "output_type": "stream",
     "text": [
      "Enter a word: Yeonwoo\n",
      "UPPER: YEONWOO\n",
      "LOWER: yeonwoo\n"
     ]
    }
   ],
   "source": [
    "word = input(\"Enter a word: \")\n",
    "print(\"UPPER: \" + word.upper())\n",
    "print(\"LOWER: \" + word.lower())"
   ]
  },
  {
   "cell_type": "code",
   "execution_count": 7,
   "id": "75f9c40e",
   "metadata": {},
   "outputs": [
    {
     "name": "stdout",
     "output_type": "stream",
     "text": [
      "Enter your first name: yeonwoo\n",
      "New first name is Yeonwoo\n"
     ]
    }
   ],
   "source": [
    "first_name = input(\"Enter your first name: \")\n",
    "print(\"New first name is \" + ' '.join(map(str.capitalize, first_name.split())))"
   ]
  }
 ],
 "metadata": {
  "kernelspec": {
   "display_name": "Python 3 (ipykernel)",
   "language": "python",
   "name": "python3"
  },
  "language_info": {
   "codemirror_mode": {
    "name": "ipython",
    "version": 3
   },
   "file_extension": ".py",
   "mimetype": "text/x-python",
   "name": "python",
   "nbconvert_exporter": "python",
   "pygments_lexer": "ipython3",
   "version": "3.11.5"
  }
 },
 "nbformat": 4,
 "nbformat_minor": 5
}

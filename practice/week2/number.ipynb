{
 "cells": [
  {
   "cell_type": "code",
   "execution_count": 1,
   "id": "253c3e48",
   "metadata": {},
   "outputs": [
    {
     "name": "stdout",
     "output_type": "stream",
     "text": [
      "What do you call a bear with no teeth?\n",
      "A gummy bear!\n"
     ]
    }
   ],
   "source": [
    "print(\"What do you call a bear with no teeth?\\nA gummy bear!\")  # print string in two lines with escape character"
   ]
  },
  {
   "cell_type": "code",
   "execution_count": 2,
   "id": "c0da16a2",
   "metadata": {},
   "outputs": [
    {
     "name": "stdout",
     "output_type": "stream",
     "text": [
      "Enter your name: Yeonwoo\n",
      "Hello Yeonwoo\n"
     ]
    }
   ],
   "source": [
    "name = input(\"Enter your name: \")\n",
    "print(\"Hello \" + name)"
   ]
  },
  {
   "cell_type": "code",
   "execution_count": 3,
   "id": "dab3df11",
   "metadata": {},
   "outputs": [
    {
     "name": "stdout",
     "output_type": "stream",
     "text": [
      "Input your name: Yeonwoo\n",
      "Input your last name: JI\n",
      "Hello Yeonwoo JI\n"
     ]
    }
   ],
   "source": [
    "name = input(\"Input your name: \")\n",
    "last_name = input(\"Input your last name: \")\n",
    "print(\"Hello\", name, last_name)"
   ]
  },
  {
   "cell_type": "code",
   "execution_count": 4,
   "id": "34cd1801",
   "metadata": {},
   "outputs": [
    {
     "name": "stdout",
     "output_type": "stream",
     "text": [
      "Input the first number: 10\n",
      "Input the second number: 30\n",
      "10 + 30 = 40\n"
     ]
    }
   ],
   "source": [
    "num1 = int(input(\"Input the first number: \"))\n",
    "num2 = int(input(\"Input the second number: \"))\n",
    "print(f'{num1} + {num2} = {num1+num2}')"
   ]
  },
  {
   "cell_type": "code",
   "execution_count": 5,
   "id": "6cce7a6c",
   "metadata": {},
   "outputs": [
    {
     "name": "stdout",
     "output_type": "stream",
     "text": [
      "Input the first number: 10\n",
      "Input the second number: 20\n",
      "Input the third number: 30\n",
      "10 + 20 * 30 = 610\n",
      "( 10 + 20 ) = 900\n"
     ]
    }
   ],
   "source": [
    "num1 = int(input(\"Input the first number: \"))\n",
    "num2 = int(input(\"Input the second number: \"))\n",
    "num3 = int(input(\"Input the third number: \"))\n",
    "print(f'{num1} + {num2} * {num3} = {num1+num2*num3}')\n",
    "print(f'( {num1} + {num2} ) = {(num1+num2)*num3}')"
   ]
  },
  {
   "cell_type": "code",
   "execution_count": 7,
   "id": "6738d529",
   "metadata": {},
   "outputs": [
    {
     "name": "stdout",
     "output_type": "stream",
     "text": [
      "Enter the number of slices of pizza you started with: 10\n",
      "How many slices have you eaten? 5\n",
      "You have 5 slicing remaining\n"
     ]
    }
   ],
   "source": [
    "slices = int(input(\"Enter the number of slices of pizza you started with: \"))\n",
    "eaten_slices = int(input(\"How many slices have you eaten? \"))\n",
    "remaining = slices - eaten_slices\n",
    "print(f'You have {remaining} slicing remaining')"
   ]
  },
  {
   "cell_type": "code",
   "execution_count": 8,
   "id": "9675400e",
   "metadata": {},
   "outputs": [
    {
     "name": "stdout",
     "output_type": "stream",
     "text": [
      "What is your name? Yeonwoo\n",
      "How old are you? 25\n",
      "Yeonwoo, next birthday you will be 26\n"
     ]
    }
   ],
   "source": [
    "name = input(\"What is your name? \")\n",
    "age = int(input(\"How old are you? \"))\n",
    "print(f'{name}, next birthday you will be {age+1}')"
   ]
  },
  {
   "cell_type": "code",
   "execution_count": 9,
   "id": "aa56a79d",
   "metadata": {},
   "outputs": [
    {
     "name": "stdout",
     "output_type": "stream",
     "text": [
      "What is the total cost of the bill? 5500\n",
      "How many people are there? 3\n",
      "Each person should pay 1833.3333333333333 won.\n"
     ]
    }
   ],
   "source": [
    "total_cost = int(input(\"What is the total cost of the bill? \"))\n",
    "people_count = int(input(\"How many people are there? \"))\n",
    "print(f'Each person should pay {total_cost / people_count} won.')"
   ]
  },
  {
   "cell_type": "code",
   "execution_count": 10,
   "id": "d97b86ce",
   "metadata": {},
   "outputs": [
    {
     "name": "stdout",
     "output_type": "stream",
     "text": [
      "Enter the number of days: 10\n",
      "In 10 days there are…\n",
      "240 hours\n",
      "14400 minutes\n",
      "864000 seconds\n"
     ]
    }
   ],
   "source": [
    "num_of_days = int(input(\"Enter the number of days: \"))\n",
    "print(f'In {num_of_days} days there are…')\n",
    "print(num_of_days * 24, \"hours\")\n",
    "print(num_of_days * 24 * 60, \"minutes\")\n",
    "print(num_of_days * 24 * 60 * 60, \"seconds\")"
   ]
  },
  {
   "cell_type": "code",
   "execution_count": 11,
   "id": "84123af2",
   "metadata": {},
   "outputs": [
    {
     "name": "stdout",
     "output_type": "stream",
     "text": [
      "Enter the number of kilos: 10\n",
      "That is 22.040000000000003 pounds.\n"
     ]
    }
   ],
   "source": [
    "kilos = int(input(\"Enter the number of kilos: \"))\n",
    "print(f\"That is {kilos * 2.204} pounds.\")"
   ]
  },
  {
   "cell_type": "code",
   "execution_count": 12,
   "id": "c02686d3",
   "metadata": {},
   "outputs": [
    {
     "name": "stdout",
     "output_type": "stream",
     "text": [
      "Enter the number over 100: 120\n",
      "Enter the number under 10: 5\n",
      "5 goes into 120 24 times\n"
     ]
    }
   ],
   "source": [
    "big_num = int(input(\"Enter the number over 100: \"))\n",
    "small_num = int(input(\"Enter the number under 10: \"))\n",
    "print(f'{small_num} goes into {big_num} {big_num // small_num} times')"
   ]
  }
 ],
 "metadata": {
  "kernelspec": {
   "display_name": "Python 3 (ipykernel)",
   "language": "python",
   "name": "python3"
  },
  "language_info": {
   "codemirror_mode": {
    "name": "ipython",
    "version": 3
   },
   "file_extension": ".py",
   "mimetype": "text/x-python",
   "name": "python",
   "nbconvert_exporter": "python",
   "pygments_lexer": "ipython3",
   "version": "3.11.5"
  }
 },
 "nbformat": 4,
 "nbformat_minor": 5
}

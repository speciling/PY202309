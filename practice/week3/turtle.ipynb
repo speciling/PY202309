{
 "cells": [
  {
   "cell_type": "code",
   "execution_count": 4,
   "id": "a7e58560",
   "metadata": {},
   "outputs": [
    {
     "name": "stdout",
     "output_type": "stream",
     "text": [
      "turtle bye!\n"
     ]
    }
   ],
   "source": [
    "import turtle\n",
    "t = turtle.Turtle()\n",
    "t.left(90)  # 방향을 좌측으로 90도 틀어 위를 바라보게 만든다. 이후 for문에서 forward를 사용하면 위로 선을 그어 빈도수 bar를 그릴 수 있다.\n",
    "\n",
    "# Define word frequencies\n",
    "word_freq = {\"apple\": 5, \"banana\": 8, \"cherry\": 2, \"grape\": 1}\n",
    "\n",
    "# Set the initial X-location\n",
    "x = -200\n",
    "for word, freq in word_freq.items():\n",
    "    t.penup()\n",
    "    t.goto(x, 0)\n",
    "    \n",
    "    # Print word-frequency\n",
    "    t.write(f\"{word}: {freq}\", font=(\"Arial\", 12, \"normal\"))\n",
    "    \n",
    "    # Draw the up-line based on frequency\n",
    "    t.goto(x, 30)\n",
    "    t.pendown()\n",
    "    t.forward(freq * 10)  # Draw a bar of length proportional to the frequency\n",
    "    \n",
    "    x += 100  # Set the next position\n",
    "# 매 반복마다 penup으로 이동경로가 그려지지 않도록 설정한 후\n",
    "# goto(x, 0)을 사용하여 현재 단계의 시작 x좌표로 이동하고\n",
    "# Arial체 12포인트 normal 글씨체로 현재 단어와 빈도수를 작성하고\n",
    "# goto(x, 30)으로 위로 30픽셀만큼 이동한 후\n",
    "# pendown으로 이동경로를 그릴수 있게 설정하고\n",
    "# forward(freq*10)으로 빈도수*10픽셀만큼 이동하며 선을 긋도록 한다\n",
    "# x += 100으로 다음 단계의 시작 x좌표를 오른쪽으로 100픽셀만큼 떨어진 곳에서 시작할 수 있도록 한다.\n",
    "    \n",
    "turtle.done()\n",
    "try:\n",
    "    turtle.bye()\n",
    "except:\n",
    "    print(\"turtle bye!\")"
   ]
  }
 ],
 "metadata": {
  "kernelspec": {
   "display_name": "Python 3 (ipykernel)",
   "language": "python",
   "name": "python3"
  },
  "language_info": {
   "codemirror_mode": {
    "name": "ipython",
    "version": 3
   },
   "file_extension": ".py",
   "mimetype": "text/x-python",
   "name": "python",
   "nbconvert_exporter": "python",
   "pygments_lexer": "ipython3",
   "version": "3.10.9"
  }
 },
 "nbformat": 4,
 "nbformat_minor": 5
}

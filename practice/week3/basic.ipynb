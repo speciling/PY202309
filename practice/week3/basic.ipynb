{
 "cells": [
  {
   "cell_type": "code",
   "execution_count": 1,
   "id": "34febda5",
   "metadata": {},
   "outputs": [
    {
     "name": "stdout",
     "output_type": "stream",
     "text": [
      "1. current list =  [30, 10, 20, 50, 40]\n"
     ]
    }
   ],
   "source": [
    "sample_list = [30, 10, 20, 50, 40]\n",
    "print(\"1. current list = \", sample_list)  # 리스트 초기화"
   ]
  },
  {
   "cell_type": "code",
   "execution_count": 2,
   "id": "e3c6fccd",
   "metadata": {},
   "outputs": [
    {
     "name": "stdout",
     "output_type": "stream",
     "text": [
      "2. append(60) =  [30, 10, 20, 50, 40, 60]\n"
     ]
    }
   ],
   "source": [
    "sample_list.append(60)\n",
    "print(\"2. append(60) = \", sample_list)  # 리스트에 60이라는 원소를 리스트의 맨 뒤에 추가"
   ]
  },
  {
   "cell_type": "code",
   "execution_count": 3,
   "id": "97901fbf",
   "metadata": {},
   "outputs": [
    {
     "name": "stdout",
     "output_type": "stream",
     "text": [
      "3. item afer pop() =  60\n",
      "4. list afer pop() =  [30, 10, 20, 50, 40]\n"
     ]
    }
   ],
   "source": [
    "print(\"3. item afer pop() = \", sample_list.pop())  # 리스트 맨 뒤의 아이템을 삭제하고 반환\n",
    "print(\"4. list afer pop() = \", sample_list)  # 맨 뒤의 아이템이 삭제된 리스트 출력"
   ]
  },
  {
   "cell_type": "code",
   "execution_count": 4,
   "id": "6f80e133",
   "metadata": {},
   "outputs": [
    {
     "name": "stdout",
     "output_type": "stream",
     "text": [
      "5. after sort() =  [10, 20, 30, 40, 50]\n"
     ]
    }
   ],
   "source": [
    "sample_list.sort()\n",
    "print(\"5. after sort() = \", sample_list)  # 리스트를 오름차순으로 정렬"
   ]
  },
  {
   "cell_type": "code",
   "execution_count": 5,
   "id": "1f7315d6",
   "metadata": {},
   "outputs": [
    {
     "name": "stdout",
     "output_type": "stream",
     "text": [
      "6. after reverse() =  [50, 40, 30, 20, 10]\n"
     ]
    }
   ],
   "source": [
    "sample_list.reverse()\n",
    "print(\"6. after reverse() = \", sample_list)  # 리스트의 순서를 반대로 뒤집음"
   ]
  },
  {
   "cell_type": "code",
   "execution_count": 6,
   "id": "dd6acf4b",
   "metadata": {},
   "outputs": [
    {
     "name": "stdout",
     "output_type": "stream",
     "text": [
      "7. index for 20 =  3\n"
     ]
    }
   ],
   "source": [
    "print(\"7. index for 20 = \", sample_list.index(20))  # 리스트 안의 20이라는 원소중 맨 앞의 index값 반환"
   ]
  },
  {
   "cell_type": "code",
   "execution_count": 7,
   "id": "3f352611",
   "metadata": {},
   "outputs": [
    {
     "name": "stdout",
     "output_type": "stream",
     "text": [
      "8. after insert(2, 222) =  [50, 40, 222, 30, 20, 10]\n"
     ]
    }
   ],
   "source": [
    "sample_list.insert(2, 222)\n",
    "print(\"8. after insert(2, 222) = \", sample_list)  # 리스트의 2번 인덱스(3번째 자리)에 222를 삽입"
   ]
  },
  {
   "cell_type": "code",
   "execution_count": 8,
   "id": "72b3de59",
   "metadata": {},
   "outputs": [
    {
     "name": "stdout",
     "output_type": "stream",
     "text": [
      "9. after remove(2, 222) =  [50, 40, 30, 20, 10]\n"
     ]
    }
   ],
   "source": [
    "sample_list.remove(222)\n",
    "print(\"9. after remove(2, 222) = \", sample_list)  # 리스트 안의 222라는 원소를 삭제"
   ]
  },
  {
   "cell_type": "code",
   "execution_count": 11,
   "id": "4e25c7c4",
   "metadata": {},
   "outputs": [
    {
     "name": "stdout",
     "output_type": "stream",
     "text": [
      "10. after extend([100, 200, 100]) =  [50, 40, 30, 20, 10, 100, 200, 100, 100, 200, 100]\n"
     ]
    }
   ],
   "source": [
    "new_list = [100, 200, 100]\n",
    "sample_list.extend(new_list)\n",
    "print(\"10. after extend([100, 200, 100]) = \", sample_list)  # sample_list의 뒤에 new_list를 이어붙임"
   ]
  },
  {
   "cell_type": "code",
   "execution_count": 10,
   "id": "28a14800",
   "metadata": {},
   "outputs": [
    {
     "name": "stdout",
     "output_type": "stream",
     "text": [
      "11. the number of 100 =  2\n"
     ]
    }
   ],
   "source": [
    "print(\"11. the number of 100 = \", sample_list.count(100))  # sample_list안의 100이라는 원소의 개수를 세어 반환"
   ]
  },
  {
   "cell_type": "code",
   "execution_count": 15,
   "id": "7d678a82",
   "metadata": {},
   "outputs": [
    {
     "name": "stdout",
     "output_type": "stream",
     "text": [
      "turtle bye!\n"
     ]
    }
   ],
   "source": [
    "import turtle\n",
    "t = turtle.Turtle()\n",
    "radius_list = [100, 200, 50]  # \n",
    "move = 20\n",
    "\n",
    "t.shape(\"turtle\")\n",
    "\n",
    "for i in range(0, len(radius_list)):  # 0부터 radius_list의 갯수-1 까지 반복\n",
    "    radius = radius_list[i]  # 반복마다 radius_list의 각 원소를 순서대로 저장\n",
    "    t.circle(radius)  # 원 그리기\n",
    "    t.fd(move)  # 20만큼 앞으로 이동\n",
    "    \n",
    "turtle.done()\n",
    "try:\n",
    "    turtle.bye()\n",
    "except:\n",
    "    print(\"turtle bye!\")"
   ]
  }
 ],
 "metadata": {
  "kernelspec": {
   "display_name": "Python 3 (ipykernel)",
   "language": "python",
   "name": "python3"
  },
  "language_info": {
   "codemirror_mode": {
    "name": "ipython",
    "version": 3
   },
   "file_extension": ".py",
   "mimetype": "text/x-python",
   "name": "python",
   "nbconvert_exporter": "python",
   "pygments_lexer": "ipython3",
   "version": "3.11.5"
  }
 },
 "nbformat": 4,
 "nbformat_minor": 5
}
